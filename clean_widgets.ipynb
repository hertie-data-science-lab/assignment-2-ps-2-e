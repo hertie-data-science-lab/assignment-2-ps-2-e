{
 "cells": [
  {
   "cell_type": "code",
   "execution_count": null,
   "id": "bc210b8b-4acd-4123-9db2-e0fb609fec36",
   "metadata": {},
   "outputs": [],
   "source": [
    "python - << \"PY\"\n",
    "import nbformat, sys, os\n",
    "nb_path = \"main_completed_fixed_v2.ipynb\"  # <-- change if needed\n",
    "nb = nbformat.read(nb_path, as_version=4)\n",
    "\n",
    "nb.metadata.pop(\"widgets\", None)\n",
    "for c in nb.cells:\n",
    "    c.get(\"metadata\", {}).pop(\"widgets\", None)\n",
    "\n",
    "nbformat.write(nb, nb_path)\n",
    "print(\"Cleaned widget metadata:\", nb_path)\n",
    "PY"
   ]
  }
 ],
 "metadata": {
  "kernelspec": {
   "display_name": "Python 3 (ipykernel)",
   "language": "python",
   "name": "python3"
  },
  "language_info": {
   "codemirror_mode": {
    "name": "ipython",
    "version": 3
   },
   "file_extension": ".py",
   "mimetype": "text/x-python",
   "name": "python",
   "nbconvert_exporter": "python",
   "pygments_lexer": "ipython3",
   "version": "3.9.13"
  }
 },
 "nbformat": 4,
 "nbformat_minor": 5
}
