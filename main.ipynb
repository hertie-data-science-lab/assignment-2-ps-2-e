{
  "cells": [
    {
      "cell_type": "markdown",
      "metadata": {
        "id": "view-in-github",
        "colab_type": "text"
      },
      "source": [
        "<a href=\"https://colab.research.google.com/github/hertie-data-science-lab/assignment-2-ps-2-e/blob/master/main.ipynb\" target=\"_parent\"><img src=\"https://colab.research.google.com/assets/colab-badge.svg\" alt=\"Open In Colab\"/></a>"
      ]
    },
    {
      "cell_type": "markdown",
      "metadata": {
        "id": "13i7KQ9t-CV8"
      },
      "source": [
        "# Problem set 2\n",
        "\n",
        "## Team\n",
        "Please write here your names and team number.\n",
        "\n",
        "* Team name: ps-2-e\n",
        "* Team members: Xiaohan Wu, Benjamin Adoba Ayida, Giulia Petrilli\n",
        "\n",
        "\n",
        "## Using Colab with GitHub\n",
        "To utilize GPU support for model training, we highly recommend to open this notebook with Google Colab. Simply, change the domain from 'github.com' to 'githubtocolab.com' and refresh the site to open the notebook in Colab.\n",
        "If you haven't used Colab before with private repositories, make sure to grant Colab access to your private repositories (see screenshot) and after that just try to change the domain again.\n",
        "\n",
        "Finally, you should make sure that you add a GPU to your Colab notebook. You can do so by clicking on `Runtime` →  `Change runtime type` → `Hardware accelerator`  →  `GPU`.\n",
        "\n",
        "## Submission\n",
        "\n",
        "Make sure that you always commit and push the changes you make in Colab back to GitHub. To do so from within a Colab notebook, click `File` → `Save a copy in GitHub`. You will be prompted to add a commit message, and after you click OK, the notebook will be pushed to your repository. Only changes that are visible in your GitHub repository on the main branch will be considered for grading. If you close Colab in your browser without pushing your changes to GitHub or saving them on Google Drive, they will be lost.\n",
        "\n",
        "Make sure that all your work has been pushed to GitHub before the deadline.\n"
      ]
    },
    {
      "cell_type": "markdown",
      "metadata": {
        "id": "8ffVUKx7P6RD"
      },
      "source": [
        "Check that the GPU  enabled in your colab notebook by running the cell below."
      ]
    },
    {
      "cell_type": "code",
      "execution_count": 1,
      "metadata": {
        "colab": {
          "base_uri": "https://localhost:8080/"
        },
        "id": "GPzhNed7P2i9",
        "outputId": "730898ed-c2c0-4521-84fb-1c6c2dc0c535"
      },
      "outputs": [
        {
          "output_type": "stream",
          "name": "stdout",
          "text": [
            "Device: cuda:0\n",
            "GPU: Tesla T4\n"
          ]
        }
      ],
      "source": [
        "import torch\n",
        "# Check is GPU is enabled\n",
        "device = torch.device(\"cuda:0\" if torch.cuda.is_available() else \"cpu\")\n",
        "print(\"Device: {}\".format(device))\n",
        "\n",
        "# Get specific GPU model\n",
        "if str(device) == \"cuda:0\":\n",
        "  print(\"GPU: {}\".format(torch.cuda.get_device_name(0)))"
      ]
    },
    {
      "cell_type": "markdown",
      "metadata": {
        "id": "29zJt4eFI25Y"
      },
      "source": [
        "You will be working with the EuroSAT dataset. The dataset contains 8489 pictures of 3 different land coverage types (crop, herbaceous vegetation and river). Running the lines below will download the data and return a random picture from the dataset."
      ]
    },
    {
      "cell_type": "code",
      "execution_count": 2,
      "metadata": {
        "colab": {
          "base_uri": "https://localhost:8080/",
          "height": 135
        },
        "id": "7MgSuuP3Kjx0",
        "outputId": "c81b7b41-4d73-47ba-ae85-31e80632265b"
      },
      "outputs": [
        {
          "output_type": "stream",
          "name": "stderr",
          "text": [
            "100%|██████████| 94.3M/94.3M [00:00<00:00, 264MB/s]\n"
          ]
        },
        {
          "output_type": "stream",
          "name": "stdout",
          "text": [
            "The dataset has 27000 images\n",
            "Picture number 22251 with label: 8\n"
          ]
        },
        {
          "output_type": "execute_result",
          "data": {
            "text/plain": [
              "<PIL.Image.Image image mode=RGB size=64x64>"
            ],
            "image/png": "[encoded data removed]",
            "image/jpeg": "[encoded data removed]"
          },
          "metadata": {},
          "execution_count": 2
        }
      ],
      "source": [
        "from torchvision.datasets import EuroSAT\n",
        "import os\n",
        "import numpy as np\n",
        "\n",
        "data = EuroSAT(root=os.getcwd(), download=True) #downloads the dataset to your current directory\n",
        "print(f\"The dataset has {len(data)} images\")\n",
        "randint = np.random.randint(len(data))\n",
        "\n",
        "pic, tar = data[randint]\n",
        "print(f\"Picture number {randint} with label: {tar}\")\n",
        "pic"
      ]
    },
    {
      "cell_type": "markdown",
      "metadata": {
        "id": "99jkSa_KmrDH"
      },
      "source": [
        "# Task 1: Transform the data (10 pt)\n",
        "\n",
        " Your task is to train a classifier to classify the different land usage types in the dataset.\n",
        "- Implement the class `rotate` that maps pictures to flipped pictures by 90, 180, 270 or 360°. The class should return an error if you try to rotate the picture by other degrees.\n",
        "- Plot a histogram with the frequencies of each class. Make sure to insert both name and label in the histogram (e.g. `AnnualCrop:0`).\n",
        "- We create a class `RotateEuroSAT` that takes as input the original dataset and returns a new dataset which contains randomly rotated pictures and whose label proportion can be customized.\n",
        "Implement the class method `_create_rotated_dataset` that returns this pictures using the previously implemented `rotate`.\n",
        "- `RotateEuroSAT` should also take care of transforming the pictures to tensors and optionally move the tensor to a GPU device."
      ]
    },
    {
      "cell_type": "code",
      "execution_count": 3,
      "metadata": {
        "colab": {
          "base_uri": "https://localhost:8080/",
          "height": 607
        },
        "id": "43onRqgGmalG",
        "outputId": "7ef2f6bf-08af-49fb-d605-0dbaf4d92b32"
      },
      "outputs": [
        {
          "output_type": "display_data",
          "data": {
            "text/plain": [
              "<Figure size 1000x600 with 1 Axes>"
            ],
            "image/png": "[encoded data removed]"
          },
          "metadata": {}
        }
      ],
      "source": [
        "from torch.utils.data import Subset, Dataset, random_split\n",
        "import matplotlib.pyplot as plt\n",
        "import numpy as np\n",
        "from PIL import Image\n",
        "from torchvision import transforms\n",
        "\n",
        "def rotate_picture(picture, rotation):\n",
        "  '''#TODO: implemented most frequent n people'''\n",
        "  # PIL uses predefined constants for transpose operations\n",
        "  if rotation == 90:\n",
        "    return picture.transpose(Image.ROTATE_90)\n",
        "  elif rotation == 180:\n",
        "    return picture.transpose(Image.ROTATE_180)\n",
        "  elif rotation == 270:\n",
        "    return picture.transpose(Image.ROTATE_270)\n",
        "  elif rotation == 360:\n",
        "    # 360 degrees rotation is no change\n",
        "    return picture\n",
        "  else:\n",
        "    raise ValueError(f\"Invalid rotation degree: {rotation}. Must be 90, 180, 270, or 360.\")\n",
        "\n",
        "\n",
        "def plot_histogram(data):\n",
        "  # extract all labels from the dataset\n",
        "  labels = [data[i][1] for i in range(len(data))]\n",
        "\n",
        "  # Count the frequency of each label\n",
        "  unique_labels, counts = np.unique(labels, return_counts=True)\n",
        "\n",
        "  try:\n",
        "    class_names = data.classes\n",
        "  except AttributeError:\n",
        "    class_names = [f\"Class_{i}\" for i in unique_labels]\n",
        "\n",
        "  # Create labels for the histogram: Name:Label\n",
        "  x_labels = [f\"{class_names[i]}:{i}\" for i in unique_labels]\n",
        "\n",
        "  fig, ax = plt.subplots(figsize=(10, 6))\n",
        "\n",
        "  # Plot the histogram\n",
        "  bars = ax.bar(x_labels, counts, color='skyblue', edgecolor='black')\n",
        "\n",
        "  # Add value labels above each bar\n",
        "  for bar, count in zip(bars, counts):\n",
        "      height = bar.get_height()\n",
        "      ax.text(\n",
        "          bar.get_x() + bar.get_width() / 2,  # x position (center of bar)\n",
        "          height + max(counts) * 0.01,        # y position (slightly above bar)\n",
        "          f\"{int(count)}\",                    # text (count)\n",
        "          ha='center', va='bottom', fontsize=10, color='black'\n",
        "      )\n",
        "\n",
        "  # Add titles and labels\n",
        "  ax.set_title(\"Class Frequency Histogram (EuroSAT)\", fontsize=14, pad=15)\n",
        "  ax.set_xlabel(\"Class Label and Name\", fontsize=12)\n",
        "  ax.set_ylabel(\"Frequency\", fontsize=12)\n",
        "  plt.xticks(rotation=45, ha='right') # Rotate labels for better fit\n",
        "  plt.tight_layout()\n",
        "\n",
        "  return fig, ax\n",
        "\n",
        "\n",
        "new_pic = rotate_picture(pic, 90) # Example of rotating a picture by 90 degrees\n",
        "same_pic = rotate_picture(pic, 360) # Example of rotating a picture by 360 degrees (should return the same picture)\n",
        "fig, ax = plot_histogram(data)\n",
        "fig.show()"
      ]
    },
    {
      "cell_type": "code",
      "execution_count": 4,
      "metadata": {
        "colab": {
          "base_uri": "https://localhost:8080/",
          "height": 328
        },
        "id": "ErD2pLeyyDf-",
        "outputId": "9c2240ba-634a-49da-f5a3-45beee61a70c"
      },
      "outputs": [
        {
          "output_type": "execute_result",
          "data": {
            "text/plain": [
              "Text(0.5, 1.0, 'Rotated by 360°')"
            ]
          },
          "metadata": {},
          "execution_count": 4
        },
        {
          "output_type": "display_data",
          "data": {
            "text/plain": [
              "<Figure size 1000x500 with 3 Axes>"
            ],
            "image/png": "[encoded data removed]"
          },
          "metadata": {}
        }
      ],
      "source": [
        "fig, axes = plt.subplots(1, 3, figsize=(10, 5))\n",
        "\n",
        "axes[0].imshow(pic)\n",
        "axes[0].set_title(\"Original picture\")\n",
        "axes[1].imshow(new_pic)\n",
        "axes[1].set_title(\"Rotated by 90°\")\n",
        "axes[2].imshow(same_pic)\n",
        "axes[2].set_title(\"Rotated by 360°\")"
      ]
    },
    {
      "cell_type": "code",
      "execution_count": 5,
      "metadata": {
        "id": "zD-Ij7cAt_wu"
      },
      "outputs": [],
      "source": [
        "class RotateEuroSAT(Dataset):\n",
        "    def __init__(self,\n",
        "                 original_data:Dataset,\n",
        "                 length:int,\n",
        "                 shares:list,\n",
        "                 device=None,\n",
        "                 seed=42):\n",
        "\n",
        "        self.original_data = original_data\n",
        "        self.length = length\n",
        "        assert sum(shares)  == 1, \"Shares must sum to 1\"\n",
        "        assert len(shares) == len(original_data.classes), \"Shares must match number of classes\"\n",
        "        self.shares = shares\n",
        "        self.seed = seed\n",
        "        self.device = device\n",
        "        self.dataset = self._create_rotated_dataset()\n",
        "\n",
        "    def __len__(self):\n",
        "        return self.length\n",
        "\n",
        "    def __getitem__(self, idx):\n",
        "        picture, label = self.dataset[idx]\n",
        "        return picture, label\n",
        "\n",
        "    def _create_rotated_dataset(self):\n",
        "        \"\"\"#TODO: implement solution\"\"\"\n",
        "        np.random.seed(self.seed)\n",
        "        rng = np.random.default_rng(self.seed)\n",
        "\n",
        "        rotations = [90, 180, 270, 360]\n",
        "        dataset = []\n",
        "\n",
        "        # Compute number of samples per class based on shares\n",
        "        samples_per_class = (np.array(self.shares) * self.length).astype(int)\n",
        "\n",
        "        # Collect indices by class\n",
        "        class_indices = {i: [] for i in range(len(self.original_data.classes))}\n",
        "        for idx in range(len(self.original_data)):\n",
        "            _, label = self.original_data[idx]\n",
        "            class_indices[label].append(idx)\n",
        "\n",
        "        # Build new dataset with rotated images\n",
        "        for cls, n_samples in enumerate(samples_per_class):\n",
        "            if n_samples == 0:\n",
        "                continue\n",
        "\n",
        "            # Randomly pick indices from this class\n",
        "            chosen_indices = rng.choice(class_indices[cls], size=n_samples, replace=True)\n",
        "\n",
        "            for i in chosen_indices:\n",
        "                pic, label = self.original_data[i]\n",
        "\n",
        "                # Apply random rotation\n",
        "                rotation_angle = rng.choice(rotations)\n",
        "                rotated_pic = rotate_picture(pic, rotation_angle)\n",
        "\n",
        "                # Convert to tensor if not already\n",
        "                if not isinstance(rotated_pic, torch.Tensor):\n",
        "                    rotated_pic = transforms.ToTensor()(rotated_pic)\n",
        "\n",
        "                # Move to GPU if specified\n",
        "                if self.device:\n",
        "                    rotated_pic = rotated_pic.to(self.device)\n",
        "\n",
        "                dataset.append((rotated_pic, label))\n",
        "\n",
        "        return dataset"
      ]
    },
    {
      "cell_type": "code",
      "execution_count": 6,
      "metadata": {
        "id": "SwIf7da_yDf-"
      },
      "outputs": [],
      "source": [
        "rotated_data = RotateEuroSAT(data,\n",
        "                             length=10**4,\n",
        "                             shares=[1 / len(data.classes) for _ in data.classes],\n",
        "                             seed=42)\n",
        "\n",
        "train_data, test_data = random_split(rotated_data, [0.8, 0.2])"
      ]
    },
    {
      "cell_type": "markdown",
      "metadata": {
        "id": "RuDwG0K5hN8K"
      },
      "source": [
        "## Task 2: Implement a max pooling class and a CNN model(15 pt)\n",
        "Implement a classification model to predict the label of the faces in the dataset. You are free to experiment with the network architecture. However your model **must** contain:\n",
        "- At least one max pooling layer, implemented with `MyMaxPool`,\n",
        "- Convolutional, linear, and pooling layers only,\n",
        "- At least 3 convolutional layers, with at least two different kernel sizes,\n",
        "- A final output layer that is customizable to the number of classes that we want to predict.\n",
        "\n",
        "#### Briefly explain why you chose the particular architecture you implemented (around 2-3 sentences)."
      ]
    },
    {
      "cell_type": "code",
      "execution_count": 7,
      "metadata": {
        "id": "VVHQhPndvqKu"
      },
      "outputs": [],
      "source": [
        "import torch\n",
        "import torch.nn as nn\n",
        "import torch.nn.functional as F\n",
        "\n",
        "class MyMaxPool(nn.Sequential):\n",
        "\n",
        "  def __init__(self,\n",
        "               kernel_size,\n",
        "               stride=1,\n",
        "               padding=0):\n",
        "    super().__init__()\n",
        "    self.kernel_size = kernel_size\n",
        "    self.stride = stride if stride else kernel_size\n",
        "    self.padding = padding\n",
        "\n",
        "  def forward(self, x):\n",
        "    # Use PyTorch functional API for pooling\n",
        "    return F.max_pool2d(x, kernel_size=self.kernel_size, stride=self.stride, padding=self.padding)\n",
        "\n",
        "\n",
        "class MyCNNModel(nn.Sequential):\n",
        "\n",
        "  def __init__(self, n_classes):\n",
        "    super().__init__()\n",
        "\n",
        "    # --- Convolutional layers with Batch Normalization ---\n",
        "    self.conv1 = nn.Conv2d(in_channels=3, out_channels=32, kernel_size=3, padding=1)\n",
        "    self.bn1 = nn.BatchNorm2d(32)\n",
        "\n",
        "    self.conv2 = nn.Conv2d(in_channels=32, out_channels=64, kernel_size=5, padding=2)\n",
        "    self.bn2 = nn.BatchNorm2d(64)\n",
        "\n",
        "    self.conv3 = nn.Conv2d(in_channels=64, out_channels=128, kernel_size=3, padding=1)\n",
        "    self.bn3 = nn.BatchNorm2d(128)\n",
        "\n",
        "    # --- Pooling layer ---\n",
        "    self.pool = MyMaxPool(kernel_size=2, stride=2)\n",
        "\n",
        "    # --- Fully connected layers ---\n",
        "    self.fc1 = nn.Linear(128 * 8 * 8, 256)\n",
        "    self.fc2 = nn.Linear(256, n_classes)\n",
        "\n",
        "    # --- Activation function ---\n",
        "    self.relu = nn.ReLU()\n",
        "\n",
        "  def forward(self, x):\n",
        "    # Block 1: Conv + BN + ReLU + Pool\n",
        "    x = self.conv1(x)\n",
        "    x = self.bn1(x)\n",
        "    x = self.relu(x)\n",
        "    x = self.pool(x)\n",
        "\n",
        "    # Block 2: Conv + BN + ReLU + Pool\n",
        "    x = self.conv2(x)\n",
        "    x = self.bn2(x)\n",
        "    x = self.relu(x)\n",
        "    x = self.pool(x)\n",
        "\n",
        "    # Block 3: Conv + BN + ReLU + Pool\n",
        "    x = self.conv3(x)\n",
        "    x = self.bn3(x)\n",
        "    x = self.relu(x)\n",
        "    x = self.pool(x)\n",
        "\n",
        "    # Flatten\n",
        "    x = torch.flatten(x, 1)\n",
        "\n",
        "    # Fully connected layers\n",
        "    x = self.relu(self.fc1(x))\n",
        "    x = self.fc2(x)\n",
        "\n",
        "    return x"
      ]
    },
    {
      "cell_type": "code",
      "execution_count": 8,
      "metadata": {
        "colab": {
          "base_uri": "https://localhost:8080/"
        },
        "id": "oOVl0a2kHupx",
        "outputId": "c0b7f736-1089-4d2b-b5d9-a37e2d483962"
      },
      "outputs": [
        {
          "output_type": "execute_result",
          "data": {
            "text/plain": [
              "tensor([[-0.3480, -0.4174,  0.3240, -0.4102,  0.0636, -0.0159,  0.0812,  0.4036,\n",
              "         -0.0433, -0.0907]], grad_fn=<AddmmBackward0>)"
            ]
          },
          "metadata": {},
          "execution_count": 8
        }
      ],
      "source": [
        "'''#TODO: print one iteration of your model to test its correctness'''\n",
        "my_model = MyCNNModel(n_classes=10)\n",
        "X, y = train_data[0]\n",
        "my_model(X[None, :])"
      ]
    },
    {
      "cell_type": "markdown",
      "metadata": {
        "id": "APwe6Xkxntk5"
      },
      "source": [
        "The CNN consists of three convolutional layers with increasing channel depth (32, 64, 128) and alternating kernel sizes (3x3 and 5x5) to capture both fine-grained and coarse spatial features in the EuroSAT images. Each convolutional layer is followed by batch normalization, ReLU and max pooling to introduce non-linearity and reduce spatial dimensions. The flattened feature maps are passed through two fully connected layers that map the extracted representations to the final class predictions."
      ]
    },
    {
      "cell_type": "markdown",
      "metadata": {
        "id": "No6lasumGTkQ"
      },
      "source": [
        "## Training\n",
        "\n",
        "We define a `Trainer` function to train our model that returns avg loss and avg accuracy per epoch. We set the configuration of the trainer is set in the `cfg` dictionary. Use the trainer to train your model and make sure to print and plot avg loss and accuracy using the in-built commands."
      ]
    },
    {
      "cell_type": "code",
      "execution_count": 9,
      "metadata": {
        "id": "ZsUHs5doTPD0"
      },
      "outputs": [],
      "source": [
        "from datetime import datetime as dt\n",
        "import torch.optim as optim\n",
        "from torch.utils.data import DataLoader\n",
        "from tqdm import tqdm\n",
        "import matplotlib.pyplot as plt\n",
        "\n",
        "cfg = {\n",
        "    'batch_size': 64,\n",
        "    'criterion': 'CrossEntropyLoss', #change to 'nn.NLLLoss' if you are applying a softmax in the last layer of your model\n",
        "    'epochs': 1,\n",
        "    'learning_rate': 0.001,\n",
        "    'optimizer':'Adam',\n",
        "    'seed':42,\n",
        "\n",
        "}\n",
        "\n",
        "class Trainer:\n",
        "\n",
        "    def __init__(self, model, cfg):\n",
        "        self.model = model\n",
        "        self.cfg = cfg\n",
        "\n",
        "        for key, val in cfg.items():\n",
        "            setattr(self, key, val)\n",
        "\n",
        "        self.optimizer = getattr(optim, self.optimizer)(self.model.parameters(), lr=self.learning_rate)\n",
        "        self.criterion = getattr(nn, self.criterion)()\n",
        "\n",
        "\n",
        "    def iter_step(self, X, Y):\n",
        "        Y_pred = self.model(X)\n",
        "        loss = self.criterion(Y_pred, Y)\n",
        "        acc = (Y_pred.argmax(dim=-1) == Y).to(torch.float).mean()\n",
        "        return loss, acc\n",
        "\n",
        "    def train(self, dataset):\n",
        "        train_dataloader = DataLoader(dataset, batch_size=self.batch_size, shuffle=True, generator=torch.manual_seed(self.seed))\n",
        "        avg_loss, avg_acc = [], []\n",
        "        tot_loss, tot_acc = 0, 0\n",
        "        for epoch in range(self.epochs):\n",
        "            iterdata = iter(train_dataloader)\n",
        "            train_size = len(iterdata)\n",
        "            pbar = tqdm(iterable=range(train_size))\n",
        "\n",
        "            for i in pbar:\n",
        "                batch = next(iterdata)\n",
        "                X_batch, Y_batch = batch #this is needed for compatibility with pbar\n",
        "                self.model.train()\n",
        "                self.optimizer.zero_grad()\n",
        "                loss, acc = self.iter_step(X_batch, Y_batch)\n",
        "                loss.backward()\n",
        "                self.optimizer.step()\n",
        "                tot_loss += loss.item()\n",
        "                tot_acc += acc.item()\n",
        "                avg_loss.append(tot_loss / max(1, len(avg_loss)))\n",
        "                avg_acc.append(tot_acc / max(1, len(avg_acc)))\n",
        "                desc = f'Epoch:{epoch} - Avg loss:{avg_loss[-1]:.5f} - Avg acc:{avg_acc[-1]:.5f}'\n",
        "                pbar.set_description(desc)\n",
        "\n",
        "        return avg_loss, avg_acc\n",
        "\n",
        "    def test(self, dataset):\n",
        "        avg_test_loss, avg_test_acc = [], []\n",
        "        test_loss, test_acc = 0, 0\n",
        "        self.model.eval()\n",
        "        test_dataloader = DataLoader(dataset, batch_size=self.batch_size, shuffle=True, generator=torch.manual_seed(self.seed))\n",
        "\n",
        "        for X_batch, Y_batch in iter(test_dataloader):\n",
        "            loss, acc = self.iter_step(X_batch, Y_batch)\n",
        "            test_loss += loss.item()\n",
        "            test_acc += acc\n",
        "            avg_test_loss.append(test_loss / max(1, len(avg_test_loss)))\n",
        "            avg_test_acc.append(test_acc / max(1, len(avg_test_acc)))\n",
        "\n",
        "        return avg_test_loss, avg_test_acc"
      ]
    },
    {
      "cell_type": "code",
      "execution_count": 10,
      "metadata": {
        "colab": {
          "base_uri": "https://localhost:8080/",
          "height": 488
        },
        "id": "3iDGmuiGksqP",
        "outputId": "9fa0335b-8c79-49a0-ecdd-4e4753d298b2"
      },
      "outputs": [
        {
          "output_type": "stream",
          "name": "stderr",
          "text": [
            "Epoch:0 - Avg loss:1.33429 - Avg acc:0.55028: 100%|██████████| 125/125 [01:28<00:00,  1.41it/s]\n"
          ]
        },
        {
          "output_type": "execute_result",
          "data": {
            "text/plain": [
              "Text(0.5, 1.0, 'Training accuracy')"
            ]
          },
          "metadata": {},
          "execution_count": 10
        },
        {
          "output_type": "display_data",
          "data": {
            "text/plain": [
              "<Figure size 640x480 with 2 Axes>"
            ],
            "image/png": "[encoded data removed]"
          },
          "metadata": {}
        }
      ],
      "source": [
        "'''#TODO: train your model, plot accuracy and loss by iteration (one iteration=one batch)'''\n",
        "my_trainer = Trainer(my_model, cfg)\n",
        "train_loss, train_acc = my_trainer.train(train_data)\n",
        "fig, (ax0, ax1) = plt.subplots(1,2)\n",
        "ax0.plot(range(len(train_loss)), train_loss)\n",
        "ax1.plot(range(len(train_acc)), train_acc)\n",
        "ax0.set_title('Training loss')\n",
        "ax1.set_title('Training accuracy')"
      ]
    },
    {
      "cell_type": "code",
      "execution_count": 11,
      "metadata": {
        "colab": {
          "base_uri": "https://localhost:8080/",
          "height": 470
        },
        "id": "JDfgU18pllpT",
        "outputId": "2fa0dc45-a204-4491-e50e-a943e7040edb"
      },
      "outputs": [
        {
          "output_type": "execute_result",
          "data": {
            "text/plain": [
              "Text(0.5, 1.0, 'Test accuracy')"
            ]
          },
          "metadata": {},
          "execution_count": 11
        },
        {
          "output_type": "display_data",
          "data": {
            "text/plain": [
              "<Figure size 640x480 with 2 Axes>"
            ],
            "image/png": "[encoded data removed]"
          },
          "metadata": {}
        }
      ],
      "source": [
        "'''#TODO: test your model, plot accuracy and loss by iteration (one iteration=one batch)'''\n",
        "test_loss, test_acc = my_trainer.test(test_data)\n",
        "fig, (ax0, ax1) = plt.subplots(1,2)\n",
        "ax0.plot(range(len(test_loss)), test_loss)\n",
        "ax1.plot(range(len(test_acc)), test_acc)\n",
        "ax0.set_title('Test loss')\n",
        "ax1.set_title('Test accuracy')"
      ]
    },
    {
      "cell_type": "code",
      "execution_count": 12,
      "metadata": {
        "colab": {
          "base_uri": "https://localhost:8080/"
        },
        "id": "SN9ahBnqFkHc",
        "outputId": "fd4c3602-a63c-4ed6-da72-d1782e0f4ea3"
      },
      "outputs": [
        {
          "output_type": "stream",
          "name": "stdout",
          "text": [
            "\n",
            "=== MyCNNModel Performance Summary ===\n",
            "Final Training Loss: 1.3343\n",
            "Final Training Accuracy: 55.03%\n",
            "Final Test Loss: 1.0547\n",
            "Final Test Accuracy: 63.31%\n",
            "\n",
            "Model Architecture:\n",
            "\n",
            "MyCNNModel(\n",
            "  (conv1): Conv2d(3, 32, kernel_size=(3, 3), stride=(1, 1), padding=(1, 1))\n",
            "  (bn1): BatchNorm2d(32, eps=1e-05, momentum=0.1, affine=True, track_running_stats=True)\n",
            "  (conv2): Conv2d(32, 64, kernel_size=(5, 5), stride=(1, 1), padding=(2, 2))\n",
            "  (bn2): BatchNorm2d(64, eps=1e-05, momentum=0.1, affine=True, track_running_stats=True)\n",
            "  (conv3): Conv2d(64, 128, kernel_size=(3, 3), stride=(1, 1), padding=(1, 1))\n",
            "  (bn3): BatchNorm2d(128, eps=1e-05, momentum=0.1, affine=True, track_running_stats=True)\n",
            "  (pool): MyMaxPool()\n",
            "  (fc1): Linear(in_features=8192, out_features=256, bias=True)\n",
            "  (fc2): Linear(in_features=256, out_features=10, bias=True)\n",
            "  (relu): ReLU()\n",
            ")\n"
          ]
        }
      ],
      "source": [
        "# --- PERFORMANCE SUMMARY FOR MYCNNMODEL ---\n",
        "\n",
        "print(\"\\n=== MyCNNModel Performance Summary ===\")\n",
        "print(f\"Final Training Loss: {train_loss[-1]:.4f}\")\n",
        "print(f\"Final Training Accuracy: {train_acc[-1]*100:.2f}%\")\n",
        "print(f\"Final Test Loss: {test_loss[-1]:.4f}\")\n",
        "print(f\"Final Test Accuracy: {test_acc[-1]*100:.2f}%\")\n",
        "\n",
        "# Model architecture summary\n",
        "print(\"\\nModel Architecture:\\n\")\n",
        "print(my_model)"
      ]
    },
    {
      "cell_type": "markdown",
      "metadata": {
        "id": "_AvPUd76zVOk"
      },
      "source": [
        "## Task 3: Tune your training hyperparameters (optional, 10 pt)\n",
        "\n",
        "Implement a method <code>grid_search</code>, which looks for the best possible learning rates and training batch sizes for your model <code>MyCNNModel</code> and returns the best possible model, the corresponding training configuration, and the final training avg losses and accuracies (as numbers)."
      ]
    },
    {
      "cell_type": "code",
      "execution_count": 13,
      "metadata": {
        "id": "AJtGS3EB4NFy"
      },
      "outputs": [],
      "source": [
        "def grid_search(train_dataset, test_dataset, cfg,\n",
        "                learning_rates=[10**-1, 10**-2, 10**-3],\n",
        "                batch_sizes=[2**5, 2**6, 2**7]):\n",
        "\n",
        "    best_model = None\n",
        "    best_cfg = None\n",
        "    best_avg_acc = 0.0\n",
        "    best_avg_loss = float('inf')\n",
        "\n",
        "    # Try all learning rates and batch sizes\n",
        "    for lr in learning_rates:\n",
        "        for bs in batch_sizes:\n",
        "            print(f\"\\nTraining with learning rate={lr}, batch size={bs}\")\n",
        "\n",
        "            # Copy base configuration and update the current ones\n",
        "            current_cfg = cfg.copy()\n",
        "            current_cfg['learning_rate'] = lr\n",
        "            current_cfg['batch_size'] = bs\n",
        "\n",
        "            # Initialize a new model and trainer\n",
        "            model = MyCNNModel(n_classes=10)\n",
        "            trainer = Trainer(model, current_cfg)\n",
        "\n",
        "            # --- TRAINING PHASE ---\n",
        "            train_loss, train_acc = trainer.train(train_dataset)\n",
        "            # --- TEST PHASE ---\n",
        "            test_loss, test_acc = trainer.test(test_dataset)\n",
        "\n",
        "            # Compute final averages for both train and test\n",
        "            with torch.no_grad():\n",
        "                final_train_loss = np.mean(train_loss[-min(10, len(train_loss)):])\n",
        "                final_train_acc = np.mean(train_acc[-min(10, len(train_acc)):])\n",
        "                final_test_loss = np.mean(test_loss[-min(10, len(test_loss)):])\n",
        "                final_test_acc = np.mean(test_acc[-min(10, len(test_acc)):])\n",
        "\n",
        "            print(f\"  → Final Train Loss: {final_train_loss:.4f}, Train Acc: {final_train_acc:.4f}\")\n",
        "            print(f\"  → Final Test Loss: {final_test_loss:.4f}, Test Acc: {final_test_acc:.4f}\")\n",
        "\n",
        "            # --- Selection Criterion ---\n",
        "            if final_test_acc > best_avg_acc or (final_test_acc == best_avg_acc and final_test_loss < best_avg_loss):\n",
        "                best_model = model\n",
        "                best_cfg = current_cfg\n",
        "                best_avg_loss = final_test_loss\n",
        "                best_avg_acc = final_test_acc\n",
        "\n",
        "    print(\"\\n=== Best Configuration Found ===\")\n",
        "    print(f\"Learning Rate: {best_cfg['learning_rate']}, Batch Size: {best_cfg['batch_size']}\")\n",
        "    print(f\"Test Avg Loss: {best_avg_loss:.4f}, Test Avg Accuracy: {best_avg_acc:.4f}\")\n",
        "\n",
        "    return best_model, best_cfg, best_avg_loss, best_avg_acc"
      ]
    },
    {
      "cell_type": "code",
      "execution_count": 14,
      "metadata": {
        "colab": {
          "base_uri": "https://localhost:8080/"
        },
        "id": "gdHgFE5puuq-",
        "outputId": "5ba2cd80-6366-423f-d7a3-8f4b125baaa0"
      },
      "outputs": [
        {
          "output_type": "stream",
          "name": "stdout",
          "text": [
            "\n",
            "Training with learning rate=0.1, batch size=32\n"
          ]
        },
        {
          "output_type": "stream",
          "name": "stderr",
          "text": [
            "Epoch:0 - Avg loss:20.59853 - Avg acc:0.18047: 100%|██████████| 250/250 [01:20<00:00,  3.11it/s]\n"
          ]
        },
        {
          "output_type": "stream",
          "name": "stdout",
          "text": [
            "  → Final Train Loss: 20.9427, Train Acc: 0.1803\n",
            "  → Final Test Loss: 2.0474, Test Acc: 0.2518\n",
            "\n",
            "Training with learning rate=0.1, batch size=64\n"
          ]
        },
        {
          "output_type": "stream",
          "name": "stderr",
          "text": [
            "Epoch:0 - Avg loss:44.64167 - Avg acc:0.10622: 100%|██████████| 125/125 [01:32<00:00,  1.34it/s]\n"
          ]
        },
        {
          "output_type": "stream",
          "name": "stdout",
          "text": [
            "  → Final Train Loss: 46.2611, Train Acc: 0.1065\n",
            "  → Final Test Loss: 2.3924, Test Acc: 0.1167\n",
            "\n",
            "Training with learning rate=0.1, batch size=128\n"
          ]
        },
        {
          "output_type": "stream",
          "name": "stderr",
          "text": [
            "Epoch:0 - Avg loss:74.97210 - Avg acc:0.16192: 100%|██████████| 63/63 [01:35<00:00,  1.51s/it]\n"
          ]
        },
        {
          "output_type": "stream",
          "name": "stdout",
          "text": [
            "  → Final Train Loss: 80.8649, Train Acc: 0.1610\n",
            "  → Final Test Loss: 2.3151, Test Acc: 0.2509\n",
            "\n",
            "Training with learning rate=0.01, batch size=32\n"
          ]
        },
        {
          "output_type": "stream",
          "name": "stderr",
          "text": [
            "Epoch:0 - Avg loss:2.90842 - Avg acc:0.27535: 100%|██████████| 250/250 [01:22<00:00,  3.02it/s]\n"
          ]
        },
        {
          "output_type": "stream",
          "name": "stdout",
          "text": [
            "  → Final Train Loss: 2.9303, Train Acc: 0.2739\n",
            "  → Final Test Loss: 1.8325, Test Acc: 0.3059\n",
            "\n",
            "Training with learning rate=0.01, batch size=64\n"
          ]
        },
        {
          "output_type": "stream",
          "name": "stderr",
          "text": [
            "Epoch:0 - Avg loss:4.31157 - Avg acc:0.31489: 100%|██████████| 125/125 [01:30<00:00,  1.38it/s]\n"
          ]
        },
        {
          "output_type": "stream",
          "name": "stdout",
          "text": [
            "  → Final Train Loss: 4.4140, Train Acc: 0.3116\n",
            "  → Final Test Loss: 1.7242, Test Acc: 0.4311\n",
            "\n",
            "Training with learning rate=0.01, batch size=128\n"
          ]
        },
        {
          "output_type": "stream",
          "name": "stderr",
          "text": [
            "Epoch:0 - Avg loss:5.43539 - Avg acc:0.24244: 100%|██████████| 63/63 [01:38<00:00,  1.57s/it]\n"
          ]
        },
        {
          "output_type": "stream",
          "name": "stdout",
          "text": [
            "  → Final Train Loss: 5.7229, Train Acc: 0.2363\n",
            "  → Final Test Loss: 2.1881, Test Acc: 0.3094\n",
            "\n",
            "Training with learning rate=0.001, batch size=32\n"
          ]
        },
        {
          "output_type": "stream",
          "name": "stderr",
          "text": [
            "Epoch:0 - Avg loss:1.32931 - Avg acc:0.53903: 100%|██████████| 250/250 [01:22<00:00,  3.03it/s]\n"
          ]
        },
        {
          "output_type": "stream",
          "name": "stdout",
          "text": [
            "  → Final Train Loss: 1.3372, Train Acc: 0.5360\n",
            "  → Final Test Loss: 0.9717, Test Acc: 0.6617\n",
            "\n",
            "Training with learning rate=0.001, batch size=64\n"
          ]
        },
        {
          "output_type": "stream",
          "name": "stderr",
          "text": [
            "Epoch:0 - Avg loss:1.41359 - Avg acc:0.52747: 100%|██████████| 125/125 [01:27<00:00,  1.42it/s]\n"
          ]
        },
        {
          "output_type": "stream",
          "name": "stdout",
          "text": [
            "  → Final Train Loss: 1.4316, Train Acc: 0.5220\n",
            "  → Final Test Loss: 1.2696, Test Acc: 0.6213\n",
            "\n",
            "Training with learning rate=0.001, batch size=128\n"
          ]
        },
        {
          "output_type": "stream",
          "name": "stderr",
          "text": [
            "Epoch:0 - Avg loss:1.42697 - Avg acc:0.53427: 100%|██████████| 63/63 [01:37<00:00,  1.55s/it]\n"
          ]
        },
        {
          "output_type": "stream",
          "name": "stdout",
          "text": [
            "  → Final Train Loss: 1.4659, Train Acc: 0.5247\n",
            "  → Final Test Loss: 1.3105, Test Acc: 0.6410\n",
            "\n",
            "=== Best Configuration Found ===\n",
            "Learning Rate: 0.001, Batch Size: 32\n",
            "Test Avg Loss: 0.9717, Test Avg Accuracy: 0.6617\n",
            "\n",
            "Best model achieves Test Loss = 0.97 and Test Accuracy = 66.2%\n"
          ]
        }
      ],
      "source": [
        "best_model, best_cfg, best_avg_loss, best_avg_acc = grid_search(\n",
        "    train_data, test_data, cfg,\n",
        "    learning_rates=[10**-1, 10**-2, 10**-3],\n",
        "    batch_sizes=[2**5, 2**6, 2**7]\n",
        ")\n",
        "\n",
        "print(f\"\\nBest model achieves Test Loss = {best_avg_loss:.2f} and Test Accuracy = {best_avg_acc:.1%}\")"
      ]
    },
    {
      "cell_type": "markdown",
      "metadata": {
        "id": "CLLCQpv14Gsx"
      },
      "source": [
        "## Task 4: Load and fine-tune a pre-trained model (10 pt)\n",
        "\n",
        "<ul>\n",
        "  <li>Load and train a pre-trained model for classification problems, such as those made available in <a href=\"https://huggingface.co/docs/timm\">Hugging Face's timm library</a>. </li>\n",
        "  <li> Make sure to modify the output layer to be compatible with the number of classes. </li>\n",
        "  <li>Print a summary of your results.</li>\n",
        "  <li>Briefly explain why you chose the particular architecture you did (around 2-3 sentences).</li>\n",
        "  </ul>\n",
        "  \n",
        "<b>Note</b>: in case you run into computing-related (e.g. memory) issues, consider choosing another model."
      ]
    },
    {
      "cell_type": "code",
      "execution_count": 15,
      "metadata": {
        "colab": {
          "base_uri": "https://localhost:8080/",
          "height": 176,
          "referenced_widgets": [
            "ef603b12c5814b7fb43b72f2f8e8a8e9",
            "5c65a564c98f453f86dbc6f99a7aca69",
            "f64948c6a8cc4a2e97df32c1386b2f7c",
            "1619ee2729a64e7884900b42d2b3ce3c",
            "f47b07735987465385eabb40eb79b452",
            "6579b219559848e68a7bd992a2f22043",
            "1262ce927c9a4063a7f9dea5f518dd8d",
            "efdf05611b004da198bb5d02b6e65321",
            "fdd6bd92615f44e58be7b7711da4771f",
            "321e3da4eb984d9097af91d042b68c33",
            "ffeb036024f04d939e6736dc2a71d748"
          ]
        },
        "id": "ZIoc6F8rC88P",
        "outputId": "2a878753-5d37-4720-f792-938e1ae3b82f"
      },
      "outputs": [
        {
          "output_type": "stream",
          "name": "stderr",
          "text": [
            "/usr/local/lib/python3.12/dist-packages/huggingface_hub/utils/_auth.py:94: UserWarning: \n",
            "The secret `HF_TOKEN` does not exist in your Colab secrets.\n",
            "To authenticate with the Hugging Face Hub, create a token in your settings tab (https://huggingface.co/settings/tokens), set it as secret in your Google Colab and restart your session.\n",
            "You will be able to reuse this secret in all of your notebooks.\n",
            "Please note that authentication is recommended but still optional to access public models or datasets.\n",
            "  warnings.warn(\n"
          ]
        },
        {
          "output_type": "display_data",
          "data": {
            "text/plain": [
              "model.safetensors:   0%|          | 0.00/46.8M [00:00<?, ?B/s]"
            ],
            "application/vnd.jupyter.widget-view+json": {
              "version_major": 2,
              "version_minor": 0,
              "model_id": "ef603b12c5814b7fb43b72f2f8e8a8e9"
            }
          },
          "metadata": {}
        }
      ],
      "source": [
        "import timm\n",
        "\n",
        "'''#TODO: import and fine-tune a pretrained model'''\n",
        "# create a small pretrained model and replace the head\n",
        "loaded_model = timm.create_model(\n",
        "    'resnet18', pretrained=True,\n",
        "    num_classes=10,\n",
        "    in_chans=3\n",
        ")\n",
        "loaded_trainer = Trainer(loaded_model, cfg)"
      ]
    },
    {
      "cell_type": "code",
      "execution_count": 16,
      "metadata": {
        "colab": {
          "base_uri": "https://localhost:8080/",
          "height": 488
        },
        "id": "wXjFg5gNl1iO",
        "outputId": "3ef5aa78-ce2f-444c-94dd-ef56dc3b6245"
      },
      "outputs": [
        {
          "output_type": "stream",
          "name": "stderr",
          "text": [
            "Epoch:0 - Avg loss:0.64935 - Avg acc:0.81981: 100%|██████████| 125/125 [02:57<00:00,  1.42s/it]\n"
          ]
        },
        {
          "output_type": "execute_result",
          "data": {
            "text/plain": [
              "Text(0.5, 1.0, 'Training accuracy')"
            ]
          },
          "metadata": {},
          "execution_count": 16
        },
        {
          "output_type": "display_data",
          "data": {
            "text/plain": [
              "<Figure size 640x480 with 2 Axes>"
            ],
            "image/png": "[encoded data removed]"
          },
          "metadata": {}
        }
      ],
      "source": [
        "'''#TODO: train your model, plot accuracy and loss by iteration (one iteration=one batch)'''\n",
        "train_loss, train_acc = loaded_trainer.train(train_data)\n",
        "fig, (ax0, ax1) = plt.subplots(1,2)\n",
        "ax0.plot(range(len(train_loss)), train_loss)\n",
        "ax1.plot(range(len(train_acc)), train_acc)\n",
        "ax0.set_title('Training loss')\n",
        "ax1.set_title('Training accuracy')"
      ]
    },
    {
      "cell_type": "code",
      "execution_count": 17,
      "metadata": {
        "colab": {
          "base_uri": "https://localhost:8080/",
          "height": 470
        },
        "id": "6JQYK__h0K-F",
        "outputId": "76080dba-8e87-43dd-e7ca-4a93ef59b8cf"
      },
      "outputs": [
        {
          "output_type": "execute_result",
          "data": {
            "text/plain": [
              "Text(0.5, 1.0, 'Test accuracy')"
            ]
          },
          "metadata": {},
          "execution_count": 17
        },
        {
          "output_type": "display_data",
          "data": {
            "text/plain": [
              "<Figure size 640x480 with 2 Axes>"
            ],
            "image/png": "[encoded data removed]"
          },
          "metadata": {}
        }
      ],
      "source": [
        "'''#TODO: test your model, plot accuracy and loss by iteration (one iteration=one batch)'''\n",
        "test_loss, test_acc = loaded_trainer.test(test_data)\n",
        "fig, (ax0, ax1) = plt.subplots(1,2)\n",
        "ax0.plot(range(len(test_loss)), test_loss)\n",
        "ax1.plot(range(len(test_acc)), test_acc)\n",
        "ax0.set_title('Test loss')\n",
        "ax1.set_title('Test accuracy')"
      ]
    },
    {
      "cell_type": "code",
      "execution_count": 18,
      "metadata": {
        "colab": {
          "base_uri": "https://localhost:8080/"
        },
        "id": "8AoJ0ZO0EZhB",
        "outputId": "37890b39-11c8-4dd4-8fc6-bff703a9c765"
      },
      "outputs": [
        {
          "output_type": "stream",
          "name": "stdout",
          "text": [
            "\n",
            "=== Pre-trained Summary ===\n",
            "Final Training Loss: 0.6493\n",
            "Final Training Accuracy: 81.98%\n",
            "Final Test Loss: 0.2716\n",
            "Final Test Accuracy: 94.96%\n"
          ]
        }
      ],
      "source": [
        "print(\"\\n=== Pre-trained Summary ===\")\n",
        "print(f\"Final Training Loss: {train_loss[-1]:.4f}\")\n",
        "print(f\"Final Training Accuracy: {train_acc[-1]*100:.2f}%\")\n",
        "print(f\"Final Test Loss: {test_loss[-1]:.4f}\")\n",
        "print(f\"Final Test Accuracy: {test_acc[-1]*100:.2f}%\")\n",
        "\n",
        "#print(\"\\nModel Architecture Summary:\")\n",
        "#print(timm.models.resnet.resnet18())"
      ]
    },
    {
      "cell_type": "markdown",
      "metadata": {
        "id": "5SAL8BQVEjIS"
      },
      "source": [
        "We fine-tuned ResNet-18, a lightweight residual convolutional neural network pre-trained on ImageNet, because it balances computational efficiency and strong generalization performance. Its residual skip connections help prevent vanishing gradients, making it effective even when fine-tuning on smaller datasets like EuroSAT. By only retraining the final layers, we leverage robust pre-learned feature extraction while adapting the model to the 10 land-cover classes."
      ]
    },
    {
      "cell_type": "markdown",
      "metadata": {
        "id": "ZhkmytKNU_Z2"
      },
      "source": [
        "<a name=\"results-and-discussion\"></a>\n",
        "# Task  5: Results and discussion (5pt)\n",
        "\n",
        "Report the final metrics and make a few comments on the overall performance for the networks you implemented (3-4 lines).\n",
        "\n",
        "| Test metric         | your model | pre-trained model | your tuned model (optional) |\n",
        "|---------------------|--------------------|-------------------|-----------------------|\n",
        "| Accuracy (train)           |     52.62%         |      95.63%       |       52.44%         |                     \n",
        "| Loss (train)               |       1.4088        |     0.1537        |       1.4422         |    \n",
        "| Accuracy (test)           |     64.82%         |      91.78%       |       69.29%         |                     \n",
        "| Loss (test)               |     1.0411          |   0.3917          |        0.9798        |              \n",
        "             \n",
        "\n"
      ]
    },
    {
      "cell_type": "markdown",
      "metadata": {
        "id": "UYRJT6kh29IR"
      },
      "source": [
        "The results show that the pre-trained ResNet-18 significantly outperforms the custom CNN models, achieving over 91% test accuracy with a much lower loss, due to transfer learning and deep residual feature extraction.\n",
        "The custom CNN performs reasonably well given its simpler architecture, reaching around 65% test accuracy, but shows signs of underfitting due to limited capacity.\n",
        "After hyperparameter tuning, the CNN improves slightly to 69% test accuracy, indicating that better learning rates and batch sizes help optimize convergence but cannot match the robustness of a pre-trained model trained on large-scale ImageNet features."
      ]
    }
  ],
  "metadata": {
    "accelerator": "GPU",
    "colab": {
      "gpuType": "T4",
      "provenance": [],
      "include_colab_link": true
    },
    "kernelspec": {
      "display_name": "Python 3",
      "name": "python3"
    },
    "language_info": {
      "codemirror_mode": {
        "name": "ipython",
        "version": 3
      },
      "file_extension": ".py",
      "mimetype": "text/x-python",
      "name": "python",
      "nbconvert_exporter": "python",
      "pygments_lexer": "ipython3",
      "version": "3.12.4"
    },
    "widgets": {
      "application/vnd.jupyter.widget-state+json": {
        "ef603b12c5814b7fb43b72f2f8e8a8e9": {
          "model_module": "@jupyter-widgets/controls",
          "model_name": "HBoxModel",
          "model_module_version": "1.5.0",
          "state": {
            "_dom_classes": [],
            "_model_module": "@jupyter-widgets/controls",
            "_model_module_version": "1.5.0",
            "_model_name": "HBoxModel",
            "_view_count": null,
            "_view_module": "@jupyter-widgets/controls",
            "_view_module_version": "1.5.0",
            "_view_name": "HBoxView",
            "box_style": "",
            "children": [
              "IPY_MODEL_5c65a564c98f453f86dbc6f99a7aca69",
              "IPY_MODEL_f64948c6a8cc4a2e97df32c1386b2f7c",
              "IPY_MODEL_1619ee2729a64e7884900b42d2b3ce3c"
            ],
            "layout": "IPY_MODEL_f47b07735987465385eabb40eb79b452"
          }
        },
        "5c65a564c98f453f86dbc6f99a7aca69": {
          "model_module": "@jupyter-widgets/controls",
          "model_name": "HTMLModel",
          "model_module_version": "1.5.0",
          "state": {
            "_dom_classes": [],
            "_model_module": "@jupyter-widgets/controls",
            "_model_module_version": "1.5.0",
            "_model_name": "HTMLModel",
            "_view_count": null,
            "_view_module": "@jupyter-widgets/controls",
            "_view_module_version": "1.5.0",
            "_view_name": "HTMLView",
            "description": "",
            "description_tooltip": null,
            "layout": "IPY_MODEL_6579b219559848e68a7bd992a2f22043",
            "placeholder": "​",
            "style": "IPY_MODEL_1262ce927c9a4063a7f9dea5f518dd8d",
            "value": "model.safetensors: 100%"
          }
        },
        "f64948c6a8cc4a2e97df32c1386b2f7c": {
          "model_module": "@jupyter-widgets/controls",
          "model_name": "FloatProgressModel",
          "model_module_version": "1.5.0",
          "state": {
            "_dom_classes": [],
            "_model_module": "@jupyter-widgets/controls",
            "_model_module_version": "1.5.0",
            "_model_name": "FloatProgressModel",
            "_view_count": null,
            "_view_module": "@jupyter-widgets/controls",
            "_view_module_version": "1.5.0",
            "_view_name": "ProgressView",
            "bar_style": "success",
            "description": "",
            "description_tooltip": null,
            "layout": "IPY_MODEL_efdf05611b004da198bb5d02b6e65321",
            "max": 46807446,
            "min": 0,
            "orientation": "horizontal",
            "style": "IPY_MODEL_fdd6bd92615f44e58be7b7711da4771f",
            "value": 46807446
          }
        },
        "1619ee2729a64e7884900b42d2b3ce3c": {
          "model_module": "@jupyter-widgets/controls",
          "model_name": "HTMLModel",
          "model_module_version": "1.5.0",
          "state": {
            "_dom_classes": [],
            "_model_module": "@jupyter-widgets/controls",
            "_model_module_version": "1.5.0",
            "_model_name": "HTMLModel",
            "_view_count": null,
            "_view_module": "@jupyter-widgets/controls",
            "_view_module_version": "1.5.0",
            "_view_name": "HTMLView",
            "description": "",
            "description_tooltip": null,
            "layout": "IPY_MODEL_321e3da4eb984d9097af91d042b68c33",
            "placeholder": "​",
            "style": "IPY_MODEL_ffeb036024f04d939e6736dc2a71d748",
            "value": " 46.8M/46.8M [00:01&lt;00:00, 70.8MB/s]"
          }
        },
        "f47b07735987465385eabb40eb79b452": {
          "model_module": "@jupyter-widgets/base",
          "model_name": "LayoutModel",
          "model_module_version": "1.2.0",
          "state": {
            "_model_module": "@jupyter-widgets/base",
            "_model_module_version": "1.2.0",
            "_model_name": "LayoutModel",
            "_view_count": null,
            "_view_module": "@jupyter-widgets/base",
            "_view_module_version": "1.2.0",
            "_view_name": "LayoutView",
            "align_content": null,
            "align_items": null,
            "align_self": null,
            "border": null,
            "bottom": null,
            "display": null,
            "flex": null,
            "flex_flow": null,
            "grid_area": null,
            "grid_auto_columns": null,
            "grid_auto_flow": null,
            "grid_auto_rows": null,
            "grid_column": null,
            "grid_gap": null,
            "grid_row": null,
            "grid_template_areas": null,
            "grid_template_columns": null,
            "grid_template_rows": null,
            "height": null,
            "justify_content": null,
            "justify_items": null,
            "left": null,
            "margin": null,
            "max_height": null,
            "max_width": null,
            "min_height": null,
            "min_width": null,
            "object_fit": null,
            "object_position": null,
            "order": null,
            "overflow": null,
            "overflow_x": null,
            "overflow_y": null,
            "padding": null,
            "right": null,
            "top": null,
            "visibility": null,
            "width": null
          }
        },
        "6579b219559848e68a7bd992a2f22043": {
          "model_module": "@jupyter-widgets/base",
          "model_name": "LayoutModel",
          "model_module_version": "1.2.0",
          "state": {
            "_model_module": "@jupyter-widgets/base",
            "_model_module_version": "1.2.0",
            "_model_name": "LayoutModel",
            "_view_count": null,
            "_view_module": "@jupyter-widgets/base",
            "_view_module_version": "1.2.0",
            "_view_name": "LayoutView",
            "align_content": null,
            "align_items": null,
            "align_self": null,
            "border": null,
            "bottom": null,
            "display": null,
            "flex": null,
            "flex_flow": null,
            "grid_area": null,
            "grid_auto_columns": null,
            "grid_auto_flow": null,
            "grid_auto_rows": null,
            "grid_column": null,
            "grid_gap": null,
            "grid_row": null,
            "grid_template_areas": null,
            "grid_template_columns": null,
            "grid_template_rows": null,
            "height": null,
            "justify_content": null,
            "justify_items": null,
            "left": null,
            "margin": null,
            "max_height": null,
            "max_width": null,
            "min_height": null,
            "min_width": null,
            "object_fit": null,
            "object_position": null,
            "order": null,
            "overflow": null,
            "overflow_x": null,
            "overflow_y": null,
            "padding": null,
            "right": null,
            "top": null,
            "visibility": null,
            "width": null
          }
        },
        "1262ce927c9a4063a7f9dea5f518dd8d": {
          "model_module": "@jupyter-widgets/controls",
          "model_name": "DescriptionStyleModel",
          "model_module_version": "1.5.0",
          "state": {
            "_model_module": "@jupyter-widgets/controls",
            "_model_module_version": "1.5.0",
            "_model_name": "DescriptionStyleModel",
            "_view_count": null,
            "_view_module": "@jupyter-widgets/base",
            "_view_module_version": "1.2.0",
            "_view_name": "StyleView",
            "description_width": ""
          }
        },
        "efdf05611b004da198bb5d02b6e65321": {
          "model_module": "@jupyter-widgets/base",
          "model_name": "LayoutModel",
          "model_module_version": "1.2.0",
          "state": {
            "_model_module": "@jupyter-widgets/base",
            "_model_module_version": "1.2.0",
            "_model_name": "LayoutModel",
            "_view_count": null,
            "_view_module": "@jupyter-widgets/base",
            "_view_module_version": "1.2.0",
            "_view_name": "LayoutView",
            "align_content": null,
            "align_items": null,
            "align_self": null,
            "border": null,
            "bottom": null,
            "display": null,
            "flex": null,
            "flex_flow": null,
            "grid_area": null,
            "grid_auto_columns": null,
            "grid_auto_flow": null,
            "grid_auto_rows": null,
            "grid_column": null,
            "grid_gap": null,
            "grid_row": null,
            "grid_template_areas": null,
            "grid_template_columns": null,
            "grid_template_rows": null,
            "height": null,
            "justify_content": null,
            "justify_items": null,
            "left": null,
            "margin": null,
            "max_height": null,
            "max_width": null,
            "min_height": null,
            "min_width": null,
            "object_fit": null,
            "object_position": null,
            "order": null,
            "overflow": null,
            "overflow_x": null,
            "overflow_y": null,
            "padding": null,
            "right": null,
            "top": null,
            "visibility": null,
            "width": null
          }
        },
        "fdd6bd92615f44e58be7b7711da4771f": {
          "model_module": "@jupyter-widgets/controls",
          "model_name": "ProgressStyleModel",
          "model_module_version": "1.5.0",
          "state": {
            "_model_module": "@jupyter-widgets/controls",
            "_model_module_version": "1.5.0",
            "_model_name": "ProgressStyleModel",
            "_view_count": null,
            "_view_module": "@jupyter-widgets/base",
            "_view_module_version": "1.2.0",
            "_view_name": "StyleView",
            "bar_color": null,
            "description_width": ""
          }
        },
        "321e3da4eb984d9097af91d042b68c33": {
          "model_module": "@jupyter-widgets/base",
          "model_name": "LayoutModel",
          "model_module_version": "1.2.0",
          "state": {
            "_model_module": "@jupyter-widgets/base",
            "_model_module_version": "1.2.0",
            "_model_name": "LayoutModel",
            "_view_count": null,
            "_view_module": "@jupyter-widgets/base",
            "_view_module_version": "1.2.0",
            "_view_name": "LayoutView",
            "align_content": null,
            "align_items": null,
            "align_self": null,
            "border": null,
            "bottom": null,
            "display": null,
            "flex": null,
            "flex_flow": null,
            "grid_area": null,
            "grid_auto_columns": null,
            "grid_auto_flow": null,
            "grid_auto_rows": null,
            "grid_column": null,
            "grid_gap": null,
            "grid_row": null,
            "grid_template_areas": null,
            "grid_template_columns": null,
            "grid_template_rows": null,
            "height": null,
            "justify_content": null,
            "justify_items": null,
            "left": null,
            "margin": null,
            "max_height": null,
            "max_width": null,
            "min_height": null,
            "min_width": null,
            "object_fit": null,
            "object_position": null,
            "order": null,
            "overflow": null,
            "overflow_x": null,
            "overflow_y": null,
            "padding": null,
            "right": null,
            "top": null,
            "visibility": null,
            "width": null
          }
        },
        "ffeb036024f04d939e6736dc2a71d748": {
          "model_module": "@jupyter-widgets/controls",
          "model_name": "DescriptionStyleModel",
          "model_module_version": "1.5.0",
          "state": {
            "_model_module": "@jupyter-widgets/controls",
            "_model_module_version": "1.5.0",
            "_model_name": "DescriptionStyleModel",
            "_view_count": null,
            "_view_module": "@jupyter-widgets/base",
            "_view_module_version": "1.2.0",
            "_view_name": "StyleView",
            "description_width": ""
          }
        }
      }
    }
  },
  "nbformat": 4,
  "nbformat_minor": 0
}